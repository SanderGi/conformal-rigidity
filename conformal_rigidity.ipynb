{
 "cells": [
  {
   "cell_type": "code",
   "execution_count": 1,
   "metadata": {},
   "outputs": [],
   "source": [
    "import networkx as nx"
   ]
  },
  {
   "cell_type": "code",
   "execution_count": 2,
   "metadata": {},
   "outputs": [],
   "source": [
    "import sys\n",
    "sys.path.append('.')\n",
    "\n",
    "from conformal_rigidity import certify_conformal_rigidity\n",
    "from graphs import load_graph"
   ]
  },
  {
   "cell_type": "code",
   "execution_count": null,
   "metadata": {},
   "outputs": [
    {
     "name": "stdout",
     "output_type": "stream",
     "text": [
      "Conformal Rigidity Certificate: True\n",
      "Certificate details: ({'lambda_2': np.float64(0.5857864376269086), 'num_edges': 8, 'target_trace': np.float64(13.656854249492294), 'sdp_trace': np.float64(13.656854249490681), 'max_edge_violation': np.float64(2.611244553918368e-13), 'eigenvector_residual': np.float64(4.36193771071415e-13)}, {'lambda_n': np.float64(3.9999999999999996), 'num_edges': 8, 'target_trace': np.float64(2.0000000000000004), 'sdp_trace': np.float64(2.0000000000127054), 'max_edge_violation': np.float64(1.0718315124336186e-11), 'eigenmatrix_residual': np.float64(1.8370972330978976e-11)})\n"
     ]
    }
   ],
   "source": [
    "G = nx.cycle_graph(8)  # cycle graphs are edge-transitive and conformally rigid.\n",
    "\n",
    "certified, cert_details = certify_conformal_rigidity(G)\n",
    "print(\"Conformal Rigidity Certificate:\", certified)\n",
    "print(\"Certificate details:\", cert_details)"
   ]
  },
  {
   "cell_type": "code",
   "execution_count": null,
   "metadata": {},
   "outputs": [
    {
     "name": "stderr",
     "output_type": "stream",
     "text": [
      "/Users/alex/Desktop/People/Austin/Conformal Rigidity/venv/lib/python3.10/site-packages/cvxpy/problems/problem.py:1504: UserWarning: Solution may be inaccurate. Try another solver, adjusting the solver settings, or solve with verbose=True for more information.\n",
      "  warnings.warn(\n"
     ]
    },
    {
     "ename": "AssertionError",
     "evalue": "Failed for cycle graph with 37 nodes.",
     "output_type": "error",
     "traceback": [
      "\u001b[0;31m---------------------------------------------------------------------------\u001b[0m",
      "\u001b[0;31mAssertionError\u001b[0m                            Traceback (most recent call last)",
      "Cell \u001b[0;32mIn[5], line 3\u001b[0m\n\u001b[1;32m      1\u001b[0m \u001b[38;5;28;01mfor\u001b[39;00m n \u001b[38;5;129;01min\u001b[39;00m \u001b[38;5;28mrange\u001b[39m(\u001b[38;5;241m3\u001b[39m, \u001b[38;5;241m40\u001b[39m):\n\u001b[1;32m      2\u001b[0m     G \u001b[38;5;241m=\u001b[39m nx\u001b[38;5;241m.\u001b[39mcycle_graph(n)\n\u001b[0;32m----> 3\u001b[0m     \u001b[38;5;28;01massert\u001b[39;00m certify_conformal_rigidity(G)[\u001b[38;5;241m0\u001b[39m], \u001b[38;5;124mf\u001b[39m\u001b[38;5;124m\"\u001b[39m\u001b[38;5;124mFailed for cycle graph with \u001b[39m\u001b[38;5;132;01m{\u001b[39;00mn\u001b[38;5;132;01m}\u001b[39;00m\u001b[38;5;124m nodes.\u001b[39m\u001b[38;5;124m\"\u001b[39m\n",
      "\u001b[0;31mAssertionError\u001b[0m: Failed for cycle graph with 37 nodes."
     ]
    }
   ],
   "source": [
    "for n in range(3, 40):\n",
    "    G = nx.cycle_graph(n)\n",
    "    assert certify_conformal_rigidity(G)[0], f\"Failed for cycle graph with {n} nodes.\"\n",
    "print(\"All cycle graph tests passed!\") # Currently only works for up to 37 nodes, need more numerical precision to go further."
   ]
  },
  {
   "cell_type": "code",
   "execution_count": 6,
   "metadata": {},
   "outputs": [
    {
     "data": {
      "text/plain": [
       "(np.True_,\n",
       " ({'lambda_2': np.float64(3.9999999999999964),\n",
       "   'num_edges': 6,\n",
       "   'target_trace': np.float64(1.5000000000000013),\n",
       "   'sdp_trace': np.float64(1.5000000000122404),\n",
       "   'max_edge_violation': np.float64(8.166800569142652e-12),\n",
       "   'eigenvector_residual': np.float64(1.276021588802136e-13)},\n",
       "  {'lambda_n': np.float64(4.0),\n",
       "   'num_edges': 6,\n",
       "   'target_trace': np.float64(1.5),\n",
       "   'sdp_trace': np.float64(1.5000000000009188),\n",
       "   'max_edge_violation': np.float64(6.17061957086662e-13),\n",
       "   'eigenmatrix_residual': np.float64(1.8813924020932332e-13)}))"
      ]
     },
     "execution_count": 6,
     "metadata": {},
     "output_type": "execute_result"
    }
   ],
   "source": [
    "certify_conformal_rigidity(nx.complete_graph(4)) # complete graphs are conformally rigid"
   ]
  },
  {
   "cell_type": "code",
   "execution_count": 7,
   "metadata": {},
   "outputs": [
    {
     "data": {
      "text/plain": [
       "(False,\n",
       " ({'lambda_2': np.float64(2.000000000000001),\n",
       "   'num_edges': 5,\n",
       "   'target_trace': np.float64(2.499999999999999),\n",
       "   'sdp_trace': np.float64(2.0000000000188987),\n",
       "   'max_edge_violation': np.float64(0.6576419649233827),\n",
       "   'eigenvector_residual': np.float64(0.3423580350766172)},\n",
       "  None))"
      ]
     },
     "execution_count": 7,
     "metadata": {},
     "output_type": "execute_result"
    }
   ],
   "source": [
    "G = nx.complete_graph(4)\n",
    "G.remove_edge(0, 1)\n",
    "certify_conformal_rigidity(G) # removing an edge from a complete graph makes it non-conformally rigid"
   ]
  },
  {
   "cell_type": "code",
   "execution_count": 8,
   "metadata": {},
   "outputs": [
    {
     "data": {
      "text/plain": [
       "(False,\n",
       " ({'lambda_2': np.float64(0.5857864376269042),\n",
       "   'num_edges': 3,\n",
       "   'target_trace': np.float64(5.121320343559649),\n",
       "   'sdp_trace': np.float64(5.000000000000049),\n",
       "   'max_edge_violation': np.float64(9.325873406851315e-15),\n",
       "   'eigenvector_residual': np.float64(1.002522136355788)},\n",
       "  None))"
      ]
     },
     "execution_count": 8,
     "metadata": {},
     "output_type": "execute_result"
    }
   ],
   "source": [
    "# check whether a line graph is conformally rigid\n",
    "G = nx.path_graph(4)\n",
    "certify_conformal_rigidity(G)"
   ]
  },
  {
   "cell_type": "code",
   "execution_count": 4,
   "metadata": {},
   "outputs": [
    {
     "name": "stdout",
     "output_type": "stream",
     "text": [
      "Conformal Rigidity Certificate: True\n",
      "Certificate details: ({'lambda_2': np.float64(2.0), 'num_edges': 15, 'target_trace': np.float64(7.5), 'sdp_trace': np.float64(7.4999999999998), 'max_edge_violation': np.float64(1.3677947663381929e-13), 'eigenvector_residual': np.float64(7.956921131792216e-13)}, {'lambda_n': np.float64(5.000000000000003), 'num_edges': 15, 'target_trace': np.float64(2.9999999999999982), 'sdp_trace': np.float64(2.99999999999183), 'max_edge_violation': np.float64(1.5675238884682585e-11), 'eigenmatrix_residual': np.float64(8.684443533134816e-11)})\n"
     ]
    }
   ],
   "source": [
    "G = load_graph('adjacency_lists/3-5-cage.txt')\n",
    "certified, cert_details = certify_conformal_rigidity(G)\n",
    "print(\"Conformal Rigidity Certificate:\", certified)\n",
    "print(\"Certificate details:\", cert_details)"
   ]
  }
 ],
 "metadata": {
  "kernelspec": {
   "display_name": "venv",
   "language": "python",
   "name": "python3"
  },
  "language_info": {
   "codemirror_mode": {
    "name": "ipython",
    "version": 3
   },
   "file_extension": ".py",
   "mimetype": "text/x-python",
   "name": "python",
   "nbconvert_exporter": "python",
   "pygments_lexer": "ipython3",
   "version": "3.10.12"
  }
 },
 "nbformat": 4,
 "nbformat_minor": 2
}
