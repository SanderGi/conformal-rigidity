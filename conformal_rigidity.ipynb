{
 "cells": [
  {
   "cell_type": "code",
   "execution_count": 3,
   "metadata": {},
   "outputs": [],
   "source": [
    "import networkx as nx"
   ]
  },
  {
   "cell_type": "code",
   "execution_count": 4,
   "metadata": {},
   "outputs": [],
   "source": [
    "import sys\n",
    "sys.path.append('.')\n",
    "\n",
    "from conformal_rigidity import certify_conformal_rigidity\n",
    "from graphs import load_graph"
   ]
  },
  {
   "cell_type": "code",
   "execution_count": null,
   "metadata": {},
   "outputs": [
    {
     "name": "stdout",
     "output_type": "stream",
     "text": [
      "Conformal Rigidity Certificate: True\n",
      "Certificate details: ({'lambda_2': np.float64(0.5857864376269086), 'num_edges': 8, 'target_trace': np.float64(13.656854249492294), 'sdp_trace': np.float64(13.656854249490681), 'max_edge_violation': np.float64(2.611244553918368e-13), 'eigenvector_residual': np.float64(4.36193771071415e-13)}, {'lambda_n': np.float64(3.9999999999999996), 'num_edges': 8, 'target_trace': np.float64(2.0000000000000004), 'sdp_trace': np.float64(2.0000000000127054), 'max_edge_violation': np.float64(1.0718315124336186e-11), 'eigenmatrix_residual': np.float64(1.8370972330978976e-11)})\n"
     ]
    }
   ],
   "source": [
    "G = nx.cycle_graph(8)  # cycle graphs are edge-transitive and conformally rigid.\n",
    "\n",
    "certified, cert_details = certify_conformal_rigidity(G)\n",
    "print(\"Conformal Rigidity Certificate:\", certified)\n",
    "print(\"Certificate details:\", cert_details)"
   ]
  },
  {
   "cell_type": "code",
   "execution_count": null,
   "metadata": {},
   "outputs": [
    {
     "name": "stderr",
     "output_type": "stream",
     "text": [
      "/Users/alex/Desktop/People/Austin/Conformal Rigidity/venv/lib/python3.10/site-packages/cvxpy/problems/problem.py:1504: UserWarning: Solution may be inaccurate. Try another solver, adjusting the solver settings, or solve with verbose=True for more information.\n",
      "  warnings.warn(\n"
     ]
    },
    {
     "ename": "AssertionError",
     "evalue": "Failed for cycle graph with 37 nodes.",
     "output_type": "error",
     "traceback": [
      "\u001b[0;31m---------------------------------------------------------------------------\u001b[0m",
      "\u001b[0;31mAssertionError\u001b[0m                            Traceback (most recent call last)",
      "Cell \u001b[0;32mIn[5], line 3\u001b[0m\n\u001b[1;32m      1\u001b[0m \u001b[38;5;28;01mfor\u001b[39;00m n \u001b[38;5;129;01min\u001b[39;00m \u001b[38;5;28mrange\u001b[39m(\u001b[38;5;241m3\u001b[39m, \u001b[38;5;241m40\u001b[39m):\n\u001b[1;32m      2\u001b[0m     G \u001b[38;5;241m=\u001b[39m nx\u001b[38;5;241m.\u001b[39mcycle_graph(n)\n\u001b[0;32m----> 3\u001b[0m     \u001b[38;5;28;01massert\u001b[39;00m certify_conformal_rigidity(G)[\u001b[38;5;241m0\u001b[39m], \u001b[38;5;124mf\u001b[39m\u001b[38;5;124m\"\u001b[39m\u001b[38;5;124mFailed for cycle graph with \u001b[39m\u001b[38;5;132;01m{\u001b[39;00mn\u001b[38;5;132;01m}\u001b[39;00m\u001b[38;5;124m nodes.\u001b[39m\u001b[38;5;124m\"\u001b[39m\n",
      "\u001b[0;31mAssertionError\u001b[0m: Failed for cycle graph with 37 nodes."
     ]
    }
   ],
   "source": [
    "for n in range(3, 40):\n",
    "    G = nx.cycle_graph(n)\n",
    "    assert certify_conformal_rigidity(G)[0], f\"Failed for cycle graph with {n} nodes.\"\n",
    "print(\"All cycle graph tests passed!\") # Currently only works for up to 37 nodes, need more numerical precision to go further."
   ]
  },
  {
   "cell_type": "code",
   "execution_count": 6,
   "metadata": {},
   "outputs": [
    {
     "data": {
      "text/plain": [
       "(np.True_,\n",
       " ({'lambda_2': np.float64(3.9999999999999964),\n",
       "   'num_edges': 6,\n",
       "   'target_trace': np.float64(1.5000000000000013),\n",
       "   'sdp_trace': np.float64(1.5000000000122404),\n",
       "   'max_edge_violation': np.float64(8.166800569142652e-12),\n",
       "   'eigenvector_residual': np.float64(1.276021588802136e-13)},\n",
       "  {'lambda_n': np.float64(4.0),\n",
       "   'num_edges': 6,\n",
       "   'target_trace': np.float64(1.5),\n",
       "   'sdp_trace': np.float64(1.5000000000009188),\n",
       "   'max_edge_violation': np.float64(6.17061957086662e-13),\n",
       "   'eigenmatrix_residual': np.float64(1.8813924020932332e-13)}))"
      ]
     },
     "execution_count": 6,
     "metadata": {},
     "output_type": "execute_result"
    }
   ],
   "source": [
    "certify_conformal_rigidity(nx.complete_graph(4)) # complete graphs are conformally rigid"
   ]
  },
  {
   "cell_type": "code",
   "execution_count": 7,
   "metadata": {},
   "outputs": [
    {
     "data": {
      "text/plain": [
       "(False,\n",
       " ({'lambda_2': np.float64(2.000000000000001),\n",
       "   'num_edges': 5,\n",
       "   'target_trace': np.float64(2.499999999999999),\n",
       "   'sdp_trace': np.float64(2.0000000000188987),\n",
       "   'max_edge_violation': np.float64(0.6576419649233827),\n",
       "   'eigenvector_residual': np.float64(0.3423580350766172)},\n",
       "  None))"
      ]
     },
     "execution_count": 7,
     "metadata": {},
     "output_type": "execute_result"
    }
   ],
   "source": [
    "G = nx.complete_graph(4)\n",
    "G.remove_edge(0, 1)\n",
    "certify_conformal_rigidity(G) # removing an edge from a complete graph makes it non-conformally rigid"
   ]
  },
  {
   "cell_type": "code",
   "execution_count": 8,
   "metadata": {},
   "outputs": [
    {
     "data": {
      "text/plain": [
       "(False,\n",
       " ({'lambda_2': np.float64(0.5857864376269042),\n",
       "   'num_edges': 3,\n",
       "   'target_trace': np.float64(5.121320343559649),\n",
       "   'sdp_trace': np.float64(5.000000000000049),\n",
       "   'max_edge_violation': np.float64(9.325873406851315e-15),\n",
       "   'eigenvector_residual': np.float64(1.002522136355788)},\n",
       "  None))"
      ]
     },
     "execution_count": 8,
     "metadata": {},
     "output_type": "execute_result"
    }
   ],
   "source": [
    "# check whether a line graph is conformally rigid\n",
    "G = nx.path_graph(4)\n",
    "certify_conformal_rigidity(G)"
   ]
  },
  {
   "cell_type": "code",
   "execution_count": 4,
   "metadata": {},
   "outputs": [
    {
     "name": "stdout",
     "output_type": "stream",
     "text": [
      "Conformal Rigidity Certificate: True\n",
      "Certificate details: ({'lambda_2': np.float64(2.0), 'num_edges': 15, 'target_trace': np.float64(7.5), 'sdp_trace': np.float64(7.4999999999998), 'max_edge_violation': np.float64(1.3677947663381929e-13), 'eigenvector_residual': np.float64(7.956921131792216e-13)}, {'lambda_n': np.float64(5.000000000000003), 'num_edges': 15, 'target_trace': np.float64(2.9999999999999982), 'sdp_trace': np.float64(2.99999999999183), 'max_edge_violation': np.float64(1.5675238884682585e-11), 'eigenmatrix_residual': np.float64(8.684443533134816e-11)})\n"
     ]
    }
   ],
   "source": [
    "G = load_graph('adjacency_lists/3-5-cage.txt')\n",
    "certified, cert_details = certify_conformal_rigidity(G)\n",
    "print(\"Conformal Rigidity Certificate:\", certified)\n",
    "print(\"Certificate details:\", cert_details)"
   ]
  },
  {
   "cell_type": "code",
   "execution_count": 12,
   "metadata": {},
   "outputs": [],
   "source": [
    "import numpy as np\n",
    "def steinerberger_curvature(G):\n",
    "    \"\"\"\n",
    "    Compute the Steinerberger curvature for each node in the graph G.\n",
    "    \"\"\"\n",
    "    n = len(G.nodes)\n",
    "    D = np.zeros((n, n))\n",
    "    nodes = list(G.nodes)\n",
    "    node_index = {node: i for i, node in enumerate(nodes)}\n",
    "    \n",
    "    # Compute shortest path distance matrix D\n",
    "    for i, u in enumerate(nodes):\n",
    "        lengths = nx.single_source_shortest_path_length(G, u)\n",
    "        for v, d in lengths.items():\n",
    "            j = node_index[v]\n",
    "            D[i, j] = d\n",
    "    \n",
    "    # Solve Dw = n * 1\n",
    "    ones_vector = np.ones(n)\n",
    "    # w = np.linalg.solve(D, n * ones_vector)\n",
    "    w = np.linalg.pinv(D) @ (n * ones_vector)\n",
    "    \n",
    "    # Map curvature values back to nodes\n",
    "    curvature = {nodes[i]: w[i] for i in range(n)}\n",
    "    total_curvature = sum(w)\n",
    "    return total_curvature, curvature"
   ]
  },
  {
   "cell_type": "code",
   "execution_count": 13,
   "metadata": {},
   "outputs": [
    {
     "name": "stdout",
     "output_type": "stream",
     "text": [
      "(np.float64(5.142857142857142), {0: np.float64(0.8571428571428575), 1: np.float64(0.8571428571428564), 2: np.float64(0.857142857142857), 3: np.float64(0.8571428571428577), 4: np.float64(0.8571428571428569), 5: np.float64(0.857142857142857)})\n"
     ]
    },
    {
     "data": {
      "image/png": "[encoded data removed]",
      "text/plain": [
       "<Figure size 640x480 with 1 Axes>"
      ]
     },
     "metadata": {},
     "output_type": "display_data"
    }
   ],
   "source": [
    "triangle_prism_graph = nx.Graph()\n",
    "triangle_prism_graph.add_edges_from([(0, 1), (1, 2), (2, 0), (3, 4), (4, 5), (5, 3), (0, 3), (1, 4), (2, 5)])\n",
    "nx.draw(triangle_prism_graph, with_labels=True)\n",
    "print(steinerberger_curvature(triangle_prism_graph))"
   ]
  },
  {
   "cell_type": "code",
   "execution_count": 17,
   "metadata": {},
   "outputs": [],
   "source": [
    "from graphs import compute_eigenvalues, laplacian_matrix"
   ]
  },
  {
   "cell_type": "code",
   "execution_count": 19,
   "metadata": {},
   "outputs": [
    {
     "data": {
      "text/plain": [
       "np.float64(2.0000000000000027)"
      ]
     },
     "execution_count": 19,
     "metadata": {},
     "output_type": "execute_result"
    }
   ],
   "source": [
    "compute_eigenvalues(laplacian_matrix(triangle_prism_graph))[0][1]"
   ]
  },
  {
   "cell_type": "code",
   "execution_count": 20,
   "metadata": {},
   "outputs": [],
   "source": [
    "def curvature_bound(G):\n",
    "    K = steinerberger_curvature(G)[0]\n",
    "    n = len(G.nodes)\n",
    "    l2 = compute_eigenvalues(laplacian_matrix(G))[0][1]\n",
    "    w_min_lower_bound = l2 * 2 * n / K\n",
    "    return w_min_lower_bound < 1, w_min_lower_bound"
   ]
  },
  {
   "cell_type": "code",
   "execution_count": 21,
   "metadata": {},
   "outputs": [
    {
     "data": {
      "text/plain": [
       "(np.False_, np.float64(4.666666666666673))"
      ]
     },
     "execution_count": 21,
     "metadata": {},
     "output_type": "execute_result"
    }
   ],
   "source": [
    "curvature_bound(triangle_prism_graph)"
   ]
  },
  {
   "cell_type": "code",
   "execution_count": 37,
   "metadata": {},
   "outputs": [
    {
     "data": {
      "text/plain": [
       "(np.True_, np.float64(0.9649180674254734))"
      ]
     },
     "execution_count": 37,
     "metadata": {},
     "output_type": "execute_result"
    }
   ],
   "source": [
    "G = nx.cycle_graph(9)\n",
    "G.remove_edge(0, 1)\n",
    "curvature_bound(G)"
   ]
  },
  {
   "cell_type": "code",
   "execution_count": 61,
   "metadata": {},
   "outputs": [
    {
     "name": "stdout",
     "output_type": "stream",
     "text": [
      "0.0\n",
      "NOT CONFORMALLY RIGID\n",
      "16.0\n",
      "48.0\n",
      "95.99999999999997\n",
      "160.0\n",
      "239.9999999999999\n",
      "335.9999999999999\n",
      "447.9999999999999\n",
      "575.9999999999997\n",
      "719.9999999999993\n",
      "879.9999999999992\n",
      "1055.9999999999995\n",
      "1247.999999999999\n",
      "1455.9999999999975\n",
      "1679.9999999999989\n",
      "1919.9999999999968\n",
      "2175.9999999999986\n",
      "2447.9999999999986\n",
      "2735.9999999999977\n"
     ]
    }
   ],
   "source": [
    "# cocktail party graphs: complete n-partite graphs K_{2, 2, ..., 2}\n",
    "for k in range(1, 20):\n",
    "    G = nx.complete_multipartite_graph(*([2] * k))\n",
    "    n = len(G.nodes)\n",
    "    K = 1\n",
    "    l2 = compute_eigenvalues(laplacian_matrix(G))[0][1]\n",
    "    w_min_lower_bound = l2 * 2 * n / K\n",
    "    print(w_min_lower_bound)\n",
    "    if w_min_lower_bound < 1:\n",
    "        print(\"NOT CONFORMALLY RIGID\")"
   ]
  },
  {
   "cell_type": "code",
   "execution_count": 66,
   "metadata": {},
   "outputs": [
    {
     "name": "stdout",
     "output_type": "stream",
     "text": [
      "4.0\n",
      "15.999999999999993\n",
      "48.0\n",
      "127.99999999999982\n",
      "319.99999999999955\n",
      "767.9999999999985\n"
     ]
    }
   ],
   "source": [
    "# hypercube graphs\n",
    "for k in range(1, 7):\n",
    "    G = nx.hypercube_graph(k)\n",
    "    n = len(G.nodes)\n",
    "    K = 2/k\n",
    "    l2 = compute_eigenvalues(laplacian_matrix(G))[0][1]\n",
    "    w_min_lower_bound = l2 * 2 * n / K\n",
    "    print(w_min_lower_bound)\n",
    "    if w_min_lower_bound < 1:\n",
    "        print(\"NOT CONFORMALLY RIGID\")"
   ]
  }
 ],
 "metadata": {
  "kernelspec": {
   "display_name": "venv",
   "language": "python",
   "name": "python3"
  },
  "language_info": {
   "codemirror_mode": {
    "name": "ipython",
    "version": 3
   },
   "file_extension": ".py",
   "mimetype": "text/x-python",
   "name": "python",
   "nbconvert_exporter": "python",
   "pygments_lexer": "ipython3",
   "version": "3.10.12"
  }
 },
 "nbformat": 4,
 "nbformat_minor": 2
}
